{
 "cells": [
  {
   "cell_type": "code",
   "execution_count": 2,
   "id": "8f576e97",
   "metadata": {},
   "outputs": [
    {
     "name": "stdout",
     "output_type": "stream",
     "text": [
      "Overwriting streamlit_Bday_List_app.py\n"
     ]
    }
   ],
   "source": [
    "%%writefile streamlit_Bday_List_app.py \n",
    "\n",
    "import os\n",
    "import streamlit as st\n",
    "import csv\n",
    "from datetime import datetime\n",
    "\n",
    "st.title(\"Monthly Birthday Reminder\")\n",
    "\n",
    "# get the current month and year\n",
    "now = datetime.now()\n",
    "current_month = now.month\n",
    "current_year = now.year\n",
    "\n",
    "# open the CSV file and read the data\n",
    "with open('Bday_List.csv', 'r') as csvfile:\n",
    "  reader = csv.reader(csvfile)\n",
    "\n",
    "  # skip the header row\n",
    "  next(reader)\n",
    "\n",
    "  # create a placeholder for the birthday list\n",
    "  birthday_list = []\n",
    "\n",
    "  # iterate over the rows in the file\n",
    "  for row in reader:\n",
    "    # parse the start work date and birthday date, handling any errors\n",
    "    try:\n",
    "      start_work = datetime.strptime(row[1], '%d/%m/%Y')\n",
    "      birthday = datetime.strptime(row[2], '%d/%m/%Y')\n",
    "    except ValueError:\n",
    "      continue\n",
    "\n",
    "    # check if the employee's birthday is in the current month\n",
    "    if birthday.month == current_month:\n",
    "      # calculate the employee's age\n",
    "      age = current_year - birthday.year\n",
    "\n",
    "      # calculate the number of years the employee has worked\n",
    "      years_worked = current_year - start_work.year\n",
    "\n",
    "      # add the employee's information to the birthday list\n",
    "      birthday_list.append((row[0], birthday, age, years_worked))\n",
    "\n",
    "  # check if there are any birthdays in the current month\n",
    "  if len(birthday_list) > 0:\n",
    "    st.header(\"Birthdays in the current month:\")\n",
    "\n",
    "    # iterate over the birthday list and print the employee's information\n",
    "    for name, birthday, age, years_worked in birthday_list:\n",
    "      st.write(f\"{name} has a birthday on {birthday:%d %B} and is {age} years old. They have worked for {years_worked} years.\")\n",
    "  else:\n",
    "    st.write(\"There are no birthdays in the current month.\")\n"
   ]
  },
  {
   "cell_type": "markdown",
   "id": "dea3063e",
   "metadata": {},
   "source": [
    "To create environment from any command prompt without anaconda(requirements.txt):\n",
    "\n",
    "C:\\Users\\Asus\\PYTHON_C\\Chatbot\\Birthday_List_Public> py -m venv envi\n",
    "\n",
    "To activate environment:\n",
    "\n",
    "C:\\Users\\Asus\\PYTHON_C\\Chatbot\\Birthday_List_Public> envi\\Scripts\\activate\n",
    "\n",
    "To install requirements for environment:\n",
    "\n",
    "(env) C:\\Users\\Asus\\PYTHON_C\\Chatbot\\Birthday_List_Public>pip install -r requirements.txt\n",
    "\n",
    "To run streamlit_app.py from command prompt with streamlit:\n",
    "\n",
    "(env) C:\\Users\\Asus\\PYTHON_C\\Chatbot\\Birthday_List_Public> streamlit run streamlit_Bday_List_app.py \n",
    "\n",
    "\n",
    "  You can now view your Streamlit app in your browser.\n",
    "\n",
    "  Local URL: http://localhost:8501\n",
    "  \n",
    "  Network URL: http://192.168.100.119:8501"
   ]
  },
  {
   "cell_type": "code",
   "execution_count": null,
   "id": "b670f1ef",
   "metadata": {},
   "outputs": [],
   "source": []
  },
  {
   "cell_type": "code",
   "execution_count": null,
   "id": "38ff6760",
   "metadata": {},
   "outputs": [],
   "source": []
  }
 ],
 "metadata": {
  "kernelspec": {
   "display_name": "Python 3 (ipykernel)",
   "language": "python",
   "name": "python3"
  },
  "language_info": {
   "codemirror_mode": {
    "name": "ipython",
    "version": 3
   },
   "file_extension": ".py",
   "mimetype": "text/x-python",
   "name": "python",
   "nbconvert_exporter": "python",
   "pygments_lexer": "ipython3",
   "version": "3.9.12"
  },
  "varInspector": {
   "cols": {
    "lenName": 16,
    "lenType": 16,
    "lenVar": 40
   },
   "kernels_config": {
    "python": {
     "delete_cmd_postfix": "",
     "delete_cmd_prefix": "del ",
     "library": "var_list.py",
     "varRefreshCmd": "print(var_dic_list())"
    },
    "r": {
     "delete_cmd_postfix": ") ",
     "delete_cmd_prefix": "rm(",
     "library": "var_list.r",
     "varRefreshCmd": "cat(var_dic_list()) "
    }
   },
   "types_to_exclude": [
    "module",
    "function",
    "builtin_function_or_method",
    "instance",
    "_Feature"
   ],
   "window_display": false
  }
 },
 "nbformat": 4,
 "nbformat_minor": 5
}
